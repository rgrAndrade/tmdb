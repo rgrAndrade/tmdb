{
 "cells": [
  {
   "cell_type": "code",
   "execution_count": 10,
   "id": "99307576",
   "metadata": {},
   "outputs": [
    {
     "data": {
      "text/html": [
       "<div>\n",
       "<style scoped>\n",
       "    .dataframe tbody tr th:only-of-type {\n",
       "        vertical-align: middle;\n",
       "    }\n",
       "\n",
       "    .dataframe tbody tr th {\n",
       "        vertical-align: top;\n",
       "    }\n",
       "\n",
       "    .dataframe thead th {\n",
       "        text-align: right;\n",
       "    }\n",
       "</style>\n",
       "<table border=\"1\" class=\"dataframe\">\n",
       "  <thead>\n",
       "    <tr style=\"text-align: right;\">\n",
       "      <th></th>\n",
       "      <th>budget</th>\n",
       "      <th>genres</th>\n",
       "      <th>homepage</th>\n",
       "      <th>id</th>\n",
       "      <th>keywords</th>\n",
       "      <th>original_language</th>\n",
       "      <th>original_title</th>\n",
       "      <th>overview</th>\n",
       "      <th>popularity</th>\n",
       "      <th>production_companies</th>\n",
       "      <th>production_countries</th>\n",
       "      <th>release_date</th>\n",
       "      <th>revenue</th>\n",
       "      <th>runtime</th>\n",
       "      <th>spoken_languages</th>\n",
       "      <th>status</th>\n",
       "      <th>tagline</th>\n",
       "      <th>title</th>\n",
       "      <th>vote_average</th>\n",
       "      <th>vote_count</th>\n",
       "    </tr>\n",
       "  </thead>\n",
       "  <tbody>\n",
       "    <tr>\n",
       "      <th>900</th>\n",
       "      <td>50200000</td>\n",
       "      <td>[{\"id\": 878, \"name\": \"Science Fiction\"}, {\"id\"...</td>\n",
       "      <td>http://www.theadjustmentbureau.com/</td>\n",
       "      <td>38050</td>\n",
       "      <td>[{\"id\": 612, \"name\": \"hotel\"}, {\"id\": 733, \"na...</td>\n",
       "      <td>en</td>\n",
       "      <td>The Adjustment Bureau</td>\n",
       "      <td>A man glimpses the future Fate has planned for...</td>\n",
       "      <td>26.607720</td>\n",
       "      <td>[{\"name\": \"Universal Pictures\", \"id\": 33}, {\"n...</td>\n",
       "      <td>[{\"iso_3166_1\": \"US\", \"name\": \"United States o...</td>\n",
       "      <td>2011-03-03</td>\n",
       "      <td>127869379</td>\n",
       "      <td>106.0</td>\n",
       "      <td>[{\"iso_639_1\": \"en\", \"name\": \"English\"}]</td>\n",
       "      <td>Released</td>\n",
       "      <td>Fight for your fate.</td>\n",
       "      <td>The Adjustment Bureau</td>\n",
       "      <td>6.5</td>\n",
       "      <td>1652</td>\n",
       "    </tr>\n",
       "    <tr>\n",
       "      <th>4591</th>\n",
       "      <td>0</td>\n",
       "      <td>[{\"id\": 18, \"name\": \"Drama\"}]</td>\n",
       "      <td>NaN</td>\n",
       "      <td>10238</td>\n",
       "      <td>[{\"id\": 1156, \"name\": \"sister sister relations...</td>\n",
       "      <td>sv</td>\n",
       "      <td>Viskningar och rop</td>\n",
       "      <td>When a woman dying of cancer in turn-of-the ce...</td>\n",
       "      <td>11.347855</td>\n",
       "      <td>[{\"name\": \"Cinematograph AB\", \"id\": 7445}, {\"n...</td>\n",
       "      <td>[{\"iso_3166_1\": \"SE\", \"name\": \"Sweden\"}]</td>\n",
       "      <td>1972-12-21</td>\n",
       "      <td>0</td>\n",
       "      <td>91.0</td>\n",
       "      <td>[{\"iso_639_1\": \"sv\", \"name\": \"svenska\"}]</td>\n",
       "      <td>Released</td>\n",
       "      <td>A haunting and shattering film experience.</td>\n",
       "      <td>Cries and Whispers</td>\n",
       "      <td>7.8</td>\n",
       "      <td>115</td>\n",
       "    </tr>\n",
       "  </tbody>\n",
       "</table>\n",
       "</div>"
      ],
      "text/plain": [
       "        budget                                             genres  \\\n",
       "900   50200000  [{\"id\": 878, \"name\": \"Science Fiction\"}, {\"id\"...   \n",
       "4591         0                      [{\"id\": 18, \"name\": \"Drama\"}]   \n",
       "\n",
       "                                 homepage     id  \\\n",
       "900   http://www.theadjustmentbureau.com/  38050   \n",
       "4591                                  NaN  10238   \n",
       "\n",
       "                                               keywords original_language  \\\n",
       "900   [{\"id\": 612, \"name\": \"hotel\"}, {\"id\": 733, \"na...                en   \n",
       "4591  [{\"id\": 1156, \"name\": \"sister sister relations...                sv   \n",
       "\n",
       "             original_title  \\\n",
       "900   The Adjustment Bureau   \n",
       "4591     Viskningar och rop   \n",
       "\n",
       "                                               overview  popularity  \\\n",
       "900   A man glimpses the future Fate has planned for...   26.607720   \n",
       "4591  When a woman dying of cancer in turn-of-the ce...   11.347855   \n",
       "\n",
       "                                   production_companies  \\\n",
       "900   [{\"name\": \"Universal Pictures\", \"id\": 33}, {\"n...   \n",
       "4591  [{\"name\": \"Cinematograph AB\", \"id\": 7445}, {\"n...   \n",
       "\n",
       "                                   production_countries release_date  \\\n",
       "900   [{\"iso_3166_1\": \"US\", \"name\": \"United States o...   2011-03-03   \n",
       "4591           [{\"iso_3166_1\": \"SE\", \"name\": \"Sweden\"}]   1972-12-21   \n",
       "\n",
       "        revenue  runtime                          spoken_languages    status  \\\n",
       "900   127869379    106.0  [{\"iso_639_1\": \"en\", \"name\": \"English\"}]  Released   \n",
       "4591          0     91.0  [{\"iso_639_1\": \"sv\", \"name\": \"svenska\"}]  Released   \n",
       "\n",
       "                                         tagline                  title  \\\n",
       "900                         Fight for your fate.  The Adjustment Bureau   \n",
       "4591  A haunting and shattering film experience.     Cries and Whispers   \n",
       "\n",
       "      vote_average  vote_count  \n",
       "900            6.5        1652  \n",
       "4591           7.8         115  "
      ]
     },
     "execution_count": 10,
     "metadata": {},
     "output_type": "execute_result"
    }
   ],
   "source": [
    "import pandas as pd\n",
    "tmdb = pd.read_csv('data/tmdb_5000_movies.csv')\n",
    "tmdb.sample(2)"
   ]
  },
  {
   "cell_type": "code",
   "execution_count": 9,
   "id": "3c29b1a0",
   "metadata": {},
   "outputs": [
    {
     "data": {
      "text/html": [
       "<div>\n",
       "<style scoped>\n",
       "    .dataframe tbody tr th:only-of-type {\n",
       "        vertical-align: middle;\n",
       "    }\n",
       "\n",
       "    .dataframe tbody tr th {\n",
       "        vertical-align: top;\n",
       "    }\n",
       "\n",
       "    .dataframe thead th {\n",
       "        text-align: right;\n",
       "    }\n",
       "</style>\n",
       "<table border=\"1\" class=\"dataframe\">\n",
       "  <thead>\n",
       "    <tr style=\"text-align: right;\">\n",
       "      <th></th>\n",
       "      <th>budget</th>\n",
       "      <th>id</th>\n",
       "      <th>popularity</th>\n",
       "      <th>revenue</th>\n",
       "      <th>runtime</th>\n",
       "      <th>vote_average</th>\n",
       "      <th>vote_count</th>\n",
       "    </tr>\n",
       "  </thead>\n",
       "  <tbody>\n",
       "    <tr>\n",
       "      <th>count</th>\n",
       "      <td>4.803000e+03</td>\n",
       "      <td>4803.000000</td>\n",
       "      <td>4803.000000</td>\n",
       "      <td>4.803000e+03</td>\n",
       "      <td>4801.000000</td>\n",
       "      <td>4803.000000</td>\n",
       "      <td>4803.000000</td>\n",
       "    </tr>\n",
       "    <tr>\n",
       "      <th>mean</th>\n",
       "      <td>2.904504e+07</td>\n",
       "      <td>57165.484281</td>\n",
       "      <td>21.492301</td>\n",
       "      <td>8.226064e+07</td>\n",
       "      <td>106.875859</td>\n",
       "      <td>6.092172</td>\n",
       "      <td>690.217989</td>\n",
       "    </tr>\n",
       "    <tr>\n",
       "      <th>std</th>\n",
       "      <td>4.072239e+07</td>\n",
       "      <td>88694.614033</td>\n",
       "      <td>31.816650</td>\n",
       "      <td>1.628571e+08</td>\n",
       "      <td>22.611935</td>\n",
       "      <td>1.194612</td>\n",
       "      <td>1234.585891</td>\n",
       "    </tr>\n",
       "    <tr>\n",
       "      <th>min</th>\n",
       "      <td>0.000000e+00</td>\n",
       "      <td>5.000000</td>\n",
       "      <td>0.000000</td>\n",
       "      <td>0.000000e+00</td>\n",
       "      <td>0.000000</td>\n",
       "      <td>0.000000</td>\n",
       "      <td>0.000000</td>\n",
       "    </tr>\n",
       "    <tr>\n",
       "      <th>25%</th>\n",
       "      <td>7.900000e+05</td>\n",
       "      <td>9014.500000</td>\n",
       "      <td>4.668070</td>\n",
       "      <td>0.000000e+00</td>\n",
       "      <td>94.000000</td>\n",
       "      <td>5.600000</td>\n",
       "      <td>54.000000</td>\n",
       "    </tr>\n",
       "    <tr>\n",
       "      <th>50%</th>\n",
       "      <td>1.500000e+07</td>\n",
       "      <td>14629.000000</td>\n",
       "      <td>12.921594</td>\n",
       "      <td>1.917000e+07</td>\n",
       "      <td>103.000000</td>\n",
       "      <td>6.200000</td>\n",
       "      <td>235.000000</td>\n",
       "    </tr>\n",
       "    <tr>\n",
       "      <th>75%</th>\n",
       "      <td>4.000000e+07</td>\n",
       "      <td>58610.500000</td>\n",
       "      <td>28.313505</td>\n",
       "      <td>9.291719e+07</td>\n",
       "      <td>118.000000</td>\n",
       "      <td>6.800000</td>\n",
       "      <td>737.000000</td>\n",
       "    </tr>\n",
       "    <tr>\n",
       "      <th>max</th>\n",
       "      <td>3.800000e+08</td>\n",
       "      <td>459488.000000</td>\n",
       "      <td>875.581305</td>\n",
       "      <td>2.787965e+09</td>\n",
       "      <td>338.000000</td>\n",
       "      <td>10.000000</td>\n",
       "      <td>13752.000000</td>\n",
       "    </tr>\n",
       "  </tbody>\n",
       "</table>\n",
       "</div>"
      ],
      "text/plain": [
       "             budget             id   popularity       revenue      runtime  \\\n",
       "count  4.803000e+03    4803.000000  4803.000000  4.803000e+03  4801.000000   \n",
       "mean   2.904504e+07   57165.484281    21.492301  8.226064e+07   106.875859   \n",
       "std    4.072239e+07   88694.614033    31.816650  1.628571e+08    22.611935   \n",
       "min    0.000000e+00       5.000000     0.000000  0.000000e+00     0.000000   \n",
       "25%    7.900000e+05    9014.500000     4.668070  0.000000e+00    94.000000   \n",
       "50%    1.500000e+07   14629.000000    12.921594  1.917000e+07   103.000000   \n",
       "75%    4.000000e+07   58610.500000    28.313505  9.291719e+07   118.000000   \n",
       "max    3.800000e+08  459488.000000   875.581305  2.787965e+09   338.000000   \n",
       "\n",
       "       vote_average    vote_count  \n",
       "count   4803.000000   4803.000000  \n",
       "mean       6.092172    690.217989  \n",
       "std        1.194612   1234.585891  \n",
       "min        0.000000      0.000000  \n",
       "25%        5.600000     54.000000  \n",
       "50%        6.200000    235.000000  \n",
       "75%        6.800000    737.000000  \n",
       "max       10.000000  13752.000000  "
      ]
     },
     "execution_count": 9,
     "metadata": {},
     "output_type": "execute_result"
    }
   ],
   "source": [
    "tmdb.describe()"
   ]
  },
  {
   "cell_type": "code",
   "execution_count": 19,
   "id": "21d6689f",
   "metadata": {},
   "outputs": [
    {
     "name": "stderr",
     "output_type": "stream",
     "text": [
      "C:\\Users\\rgrso\\anaconda3\\envs\\rgrAndrade\\lib\\site-packages\\seaborn\\distributions.py:2619: FutureWarning: `distplot` is a deprecated function and will be removed in a future version. Please adapt your code to use either `displot` (a figure-level function with similar flexibility) or `histplot` (an axes-level function for histograms).\n",
      "  warnings.warn(msg, FutureWarning)\n"
     ]
    },
    {
     "data": {
      "text/plain": [
       "Text(0.5, 1.0, 'Médias de Voltos em Filmes no TMDB 5000')"
      ]
     },
     "execution_count": 19,
     "metadata": {},
     "output_type": "execute_result"
    },
    {
     "data": {
      "image/png": "[encoded data removed]",
      "text/plain": [
       "<Figure size 432x288 with 1 Axes>"
      ]
     },
     "metadata": {
      "needs_background": "light"
     },
     "output_type": "display_data"
    }
   ],
   "source": [
    "import seaborn as sns\n",
    "ax = sns.distplot(tmdb.vote_average)\n",
    "ax.set(xlabel = 'Nota Média', ylabel = 'Densidade')\n",
    "ax.set_title('Médias de Voltos em Filmes no TMDB 5000')"
   ]
  },
  {
   "cell_type": "code",
   "execution_count": 20,
   "id": "dd39a8eb",
   "metadata": {},
   "outputs": [
    {
     "name": "stderr",
     "output_type": "stream",
     "text": [
      "C:\\Users\\rgrso\\anaconda3\\envs\\rgrAndrade\\lib\\site-packages\\seaborn\\distributions.py:2619: FutureWarning: `distplot` is a deprecated function and will be removed in a future version. Please adapt your code to use either `displot` (a figure-level function with similar flexibility) or `histplot` (an axes-level function for histograms).\n",
      "  warnings.warn(msg, FutureWarning)\n"
     ]
    },
    {
     "data": {
      "text/plain": [
       "Text(0.5, 1.0, 'Média de votos em filmes no TMBD 5000')"
      ]
     },
     "execution_count": 20,
     "metadata": {},
     "output_type": "execute_result"
    },
    {
     "data": {
      "image/png": "[encoded data removed]",
      "text/plain": [
       "<Figure size 432x288 with 1 Axes>"
      ]
     },
     "metadata": {
      "needs_background": "light"
     },
     "output_type": "display_data"
    }
   ],
   "source": [
    "ax = sns.distplot(tmdb.vote_average, norm_hist= False, kde= False)\n",
    "ax.set(xlabel='Nota média', ylabel='Frequência')\n",
    "ax.set_title('Média de votos em filmes no TMBD 5000')"
   ]
  },
  {
   "cell_type": "code",
   "execution_count": 22,
   "id": "5d024d81",
   "metadata": {},
   "outputs": [
    {
     "name": "stderr",
     "output_type": "stream",
     "text": [
      "C:\\Users\\rgrso\\anaconda3\\envs\\rgrAndrade\\lib\\site-packages\\seaborn\\_decorators.py:36: FutureWarning: Pass the following variable as a keyword arg: x. From version 0.12, the only valid positional argument will be `data`, and passing other arguments without an explicit keyword will result in an error or misinterpretation.\n",
      "  warnings.warn(\n"
     ]
    },
    {
     "data": {
      "text/plain": [
       "Text(0.5, 1.0, 'Distribuição de nota média dos filmes do TMDB 5000')"
      ]
     },
     "execution_count": 22,
     "metadata": {},
     "output_type": "execute_result"
    },
    {
     "data": {
      "image/png": "[encoded data removed]",
      "text/plain": [
       "<Figure size 432x288 with 1 Axes>"
      ]
     },
     "metadata": {
      "needs_background": "light"
     },
     "output_type": "display_data"
    }
   ],
   "source": [
    "\n"
   ]
  },
  {
   "cell_type": "markdown",
   "id": "9bd67a26",
   "metadata": {},
   "source": [
    "## Tem algo estranho com meus dados ... não faz sentido filmes cuja a nota média e 0 e 10 ... Vamos ver?"
   ]
  },
  {
   "cell_type": "code",
   "execution_count": 24,
   "id": "85384cec",
   "metadata": {},
   "outputs": [
    {
     "data": {
      "text/html": [
       "<div>\n",
       "<style scoped>\n",
       "    .dataframe tbody tr th:only-of-type {\n",
       "        vertical-align: middle;\n",
       "    }\n",
       "\n",
       "    .dataframe tbody tr th {\n",
       "        vertical-align: top;\n",
       "    }\n",
       "\n",
       "    .dataframe thead th {\n",
       "        text-align: right;\n",
       "    }\n",
       "</style>\n",
       "<table border=\"1\" class=\"dataframe\">\n",
       "  <thead>\n",
       "    <tr style=\"text-align: right;\">\n",
       "      <th></th>\n",
       "      <th>budget</th>\n",
       "      <th>genres</th>\n",
       "      <th>homepage</th>\n",
       "      <th>id</th>\n",
       "      <th>keywords</th>\n",
       "      <th>original_language</th>\n",
       "      <th>original_title</th>\n",
       "      <th>overview</th>\n",
       "      <th>popularity</th>\n",
       "      <th>production_companies</th>\n",
       "      <th>production_countries</th>\n",
       "      <th>release_date</th>\n",
       "      <th>revenue</th>\n",
       "      <th>runtime</th>\n",
       "      <th>spoken_languages</th>\n",
       "      <th>status</th>\n",
       "      <th>tagline</th>\n",
       "      <th>title</th>\n",
       "      <th>vote_average</th>\n",
       "      <th>vote_count</th>\n",
       "    </tr>\n",
       "  </thead>\n",
       "  <tbody>\n",
       "    <tr>\n",
       "      <th>4065</th>\n",
       "      <td>2100000</td>\n",
       "      <td>[{\"id\": 18, \"name\": \"Drama\"}, {\"id\": 80, \"name...</td>\n",
       "      <td>http://miamericamovie.net/</td>\n",
       "      <td>364083</td>\n",
       "      <td>[{\"id\": 40865, \"name\": \"new york state\"}, {\"id...</td>\n",
       "      <td>en</td>\n",
       "      <td>Mi America</td>\n",
       "      <td>A hate-crime has been committed in a the small...</td>\n",
       "      <td>0.039007</td>\n",
       "      <td>[{\"name\": \"Industrial House Films\", \"id\": 65589}]</td>\n",
       "      <td>[{\"iso_3166_1\": \"US\", \"name\": \"United States o...</td>\n",
       "      <td>2015-10-16</td>\n",
       "      <td>3330</td>\n",
       "      <td>126.0</td>\n",
       "      <td>[{\"iso_639_1\": \"es\", \"name\": \"Espa\\u00f1ol\"}, ...</td>\n",
       "      <td>Released</td>\n",
       "      <td>NaN</td>\n",
       "      <td>Mi America</td>\n",
       "      <td>0.0</td>\n",
       "      <td>0</td>\n",
       "    </tr>\n",
       "    <tr>\n",
       "      <th>4638</th>\n",
       "      <td>300000</td>\n",
       "      <td>[{\"id\": 18, \"name\": \"Drama\"}, {\"id\": 28, \"name...</td>\n",
       "      <td>NaN</td>\n",
       "      <td>378237</td>\n",
       "      <td>[]</td>\n",
       "      <td>en</td>\n",
       "      <td>Amidst the Devil's Wings</td>\n",
       "      <td>Prequel to \"5th of a Degree.\"</td>\n",
       "      <td>0.018087</td>\n",
       "      <td>[{\"name\": \"Daniel Columbie Films &amp; Productions...</td>\n",
       "      <td>[{\"iso_3166_1\": \"US\", \"name\": \"United States o...</td>\n",
       "      <td>2014-12-01</td>\n",
       "      <td>0</td>\n",
       "      <td>90.0</td>\n",
       "      <td>[{\"iso_639_1\": \"en\", \"name\": \"English\"}]</td>\n",
       "      <td>Released</td>\n",
       "      <td>Prequel to \"5th of a Degree.\"</td>\n",
       "      <td>Amidst the Devil's Wings</td>\n",
       "      <td>0.0</td>\n",
       "      <td>0</td>\n",
       "    </tr>\n",
       "    <tr>\n",
       "      <th>4729</th>\n",
       "      <td>0</td>\n",
       "      <td>[{\"id\": 10751, \"name\": \"Family\"}]</td>\n",
       "      <td>NaN</td>\n",
       "      <td>272726</td>\n",
       "      <td>[]</td>\n",
       "      <td>en</td>\n",
       "      <td>Dude Where's My Dog?</td>\n",
       "      <td>Left home alone with his dog Harry, young Ray ...</td>\n",
       "      <td>0.283970</td>\n",
       "      <td>[]</td>\n",
       "      <td>[]</td>\n",
       "      <td>2014-06-12</td>\n",
       "      <td>0</td>\n",
       "      <td>0.0</td>\n",
       "      <td>[]</td>\n",
       "      <td>Released</td>\n",
       "      <td>NaN</td>\n",
       "      <td>Dude Where's My Dog?</td>\n",
       "      <td>0.0</td>\n",
       "      <td>0</td>\n",
       "    </tr>\n",
       "  </tbody>\n",
       "</table>\n",
       "</div>"
      ],
      "text/plain": [
       "       budget                                             genres  \\\n",
       "4065  2100000  [{\"id\": 18, \"name\": \"Drama\"}, {\"id\": 80, \"name...   \n",
       "4638   300000  [{\"id\": 18, \"name\": \"Drama\"}, {\"id\": 28, \"name...   \n",
       "4729        0                  [{\"id\": 10751, \"name\": \"Family\"}]   \n",
       "\n",
       "                        homepage      id  \\\n",
       "4065  http://miamericamovie.net/  364083   \n",
       "4638                         NaN  378237   \n",
       "4729                         NaN  272726   \n",
       "\n",
       "                                               keywords original_language  \\\n",
       "4065  [{\"id\": 40865, \"name\": \"new york state\"}, {\"id...                en   \n",
       "4638                                                 []                en   \n",
       "4729                                                 []                en   \n",
       "\n",
       "                original_title  \\\n",
       "4065                Mi America   \n",
       "4638  Amidst the Devil's Wings   \n",
       "4729      Dude Where's My Dog?   \n",
       "\n",
       "                                               overview  popularity  \\\n",
       "4065  A hate-crime has been committed in a the small...    0.039007   \n",
       "4638                      Prequel to \"5th of a Degree.\"    0.018087   \n",
       "4729  Left home alone with his dog Harry, young Ray ...    0.283970   \n",
       "\n",
       "                                   production_companies  \\\n",
       "4065  [{\"name\": \"Industrial House Films\", \"id\": 65589}]   \n",
       "4638  [{\"name\": \"Daniel Columbie Films & Productions...   \n",
       "4729                                                 []   \n",
       "\n",
       "                                   production_countries release_date  revenue  \\\n",
       "4065  [{\"iso_3166_1\": \"US\", \"name\": \"United States o...   2015-10-16     3330   \n",
       "4638  [{\"iso_3166_1\": \"US\", \"name\": \"United States o...   2014-12-01        0   \n",
       "4729                                                 []   2014-06-12        0   \n",
       "\n",
       "      runtime                                   spoken_languages    status  \\\n",
       "4065    126.0  [{\"iso_639_1\": \"es\", \"name\": \"Espa\\u00f1ol\"}, ...  Released   \n",
       "4638     90.0           [{\"iso_639_1\": \"en\", \"name\": \"English\"}]  Released   \n",
       "4729      0.0                                                 []  Released   \n",
       "\n",
       "                            tagline                     title  vote_average  \\\n",
       "4065                            NaN                Mi America           0.0   \n",
       "4638  Prequel to \"5th of a Degree.\"  Amidst the Devil's Wings           0.0   \n",
       "4729                            NaN      Dude Where's My Dog?           0.0   \n",
       "\n",
       "      vote_count  \n",
       "4065           0  \n",
       "4638           0  \n",
       "4729           0  "
      ]
     },
     "execution_count": 24,
     "metadata": {},
     "output_type": "execute_result"
    }
   ],
   "source": [
    "tmdb.query('vote_average == 0').sample(3)"
   ]
  },
  {
   "cell_type": "code",
   "execution_count": 28,
   "id": "35885ce5",
   "metadata": {},
   "outputs": [
    {
     "data": {
      "text/html": [
       "<div>\n",
       "<style scoped>\n",
       "    .dataframe tbody tr th:only-of-type {\n",
       "        vertical-align: middle;\n",
       "    }\n",
       "\n",
       "    .dataframe tbody tr th {\n",
       "        vertical-align: top;\n",
       "    }\n",
       "\n",
       "    .dataframe thead th {\n",
       "        text-align: right;\n",
       "    }\n",
       "</style>\n",
       "<table border=\"1\" class=\"dataframe\">\n",
       "  <thead>\n",
       "    <tr style=\"text-align: right;\">\n",
       "      <th></th>\n",
       "      <th>budget</th>\n",
       "      <th>genres</th>\n",
       "      <th>homepage</th>\n",
       "      <th>id</th>\n",
       "      <th>keywords</th>\n",
       "      <th>original_language</th>\n",
       "      <th>original_title</th>\n",
       "      <th>overview</th>\n",
       "      <th>popularity</th>\n",
       "      <th>production_companies</th>\n",
       "      <th>production_countries</th>\n",
       "      <th>release_date</th>\n",
       "      <th>revenue</th>\n",
       "      <th>runtime</th>\n",
       "      <th>spoken_languages</th>\n",
       "      <th>status</th>\n",
       "      <th>tagline</th>\n",
       "      <th>title</th>\n",
       "      <th>vote_average</th>\n",
       "      <th>vote_count</th>\n",
       "    </tr>\n",
       "  </thead>\n",
       "  <tbody>\n",
       "    <tr>\n",
       "      <th>3519</th>\n",
       "      <td>0</td>\n",
       "      <td>[{\"id\": 35, \"name\": \"Comedy\"}]</td>\n",
       "      <td>NaN</td>\n",
       "      <td>89861</td>\n",
       "      <td>[{\"id\": 131, \"name\": \"italy\"}, {\"id\": 8250, \"n...</td>\n",
       "      <td>en</td>\n",
       "      <td>Stiff Upper Lips</td>\n",
       "      <td>Stiff Upper Lips is a broad parody of British ...</td>\n",
       "      <td>0.356495</td>\n",
       "      <td>[]</td>\n",
       "      <td>[{\"iso_3166_1\": \"GB\", \"name\": \"United Kingdom\"...</td>\n",
       "      <td>1998-06-12</td>\n",
       "      <td>0</td>\n",
       "      <td>99.0</td>\n",
       "      <td>[{\"iso_639_1\": \"en\", \"name\": \"English\"}]</td>\n",
       "      <td>Released</td>\n",
       "      <td>NaN</td>\n",
       "      <td>Stiff Upper Lips</td>\n",
       "      <td>10.0</td>\n",
       "      <td>1</td>\n",
       "    </tr>\n",
       "    <tr>\n",
       "      <th>4662</th>\n",
       "      <td>0</td>\n",
       "      <td>[{\"id\": 35, \"name\": \"Comedy\"}]</td>\n",
       "      <td>NaN</td>\n",
       "      <td>40963</td>\n",
       "      <td>[{\"id\": 10183, \"name\": \"independent film\"}]</td>\n",
       "      <td>en</td>\n",
       "      <td>Little Big Top</td>\n",
       "      <td>An aging out of work clown returns to his smal...</td>\n",
       "      <td>0.092100</td>\n",
       "      <td>[{\"name\": \"Fly High Films\", \"id\": 24248}]</td>\n",
       "      <td>[{\"iso_3166_1\": \"US\", \"name\": \"United States o...</td>\n",
       "      <td>2006-01-01</td>\n",
       "      <td>0</td>\n",
       "      <td>0.0</td>\n",
       "      <td>[{\"iso_639_1\": \"en\", \"name\": \"English\"}]</td>\n",
       "      <td>Rumored</td>\n",
       "      <td>NaN</td>\n",
       "      <td>Little Big Top</td>\n",
       "      <td>10.0</td>\n",
       "      <td>1</td>\n",
       "    </tr>\n",
       "    <tr>\n",
       "      <th>4247</th>\n",
       "      <td>1</td>\n",
       "      <td>[{\"id\": 10749, \"name\": \"Romance\"}, {\"id\": 35, ...</td>\n",
       "      <td>NaN</td>\n",
       "      <td>361505</td>\n",
       "      <td>[]</td>\n",
       "      <td>en</td>\n",
       "      <td>Me You and Five Bucks</td>\n",
       "      <td>A womanizing yet lovable loser, Charlie, a wai...</td>\n",
       "      <td>0.094105</td>\n",
       "      <td>[]</td>\n",
       "      <td>[]</td>\n",
       "      <td>2015-07-07</td>\n",
       "      <td>0</td>\n",
       "      <td>90.0</td>\n",
       "      <td>[]</td>\n",
       "      <td>Released</td>\n",
       "      <td>A story about second, second chances</td>\n",
       "      <td>Me You and Five Bucks</td>\n",
       "      <td>10.0</td>\n",
       "      <td>2</td>\n",
       "    </tr>\n",
       "  </tbody>\n",
       "</table>\n",
       "</div>"
      ],
      "text/plain": [
       "      budget                                             genres homepage  \\\n",
       "3519       0                     [{\"id\": 35, \"name\": \"Comedy\"}]      NaN   \n",
       "4662       0                     [{\"id\": 35, \"name\": \"Comedy\"}]      NaN   \n",
       "4247       1  [{\"id\": 10749, \"name\": \"Romance\"}, {\"id\": 35, ...      NaN   \n",
       "\n",
       "          id                                           keywords  \\\n",
       "3519   89861  [{\"id\": 131, \"name\": \"italy\"}, {\"id\": 8250, \"n...   \n",
       "4662   40963        [{\"id\": 10183, \"name\": \"independent film\"}]   \n",
       "4247  361505                                                 []   \n",
       "\n",
       "     original_language         original_title  \\\n",
       "3519                en       Stiff Upper Lips   \n",
       "4662                en         Little Big Top   \n",
       "4247                en  Me You and Five Bucks   \n",
       "\n",
       "                                               overview  popularity  \\\n",
       "3519  Stiff Upper Lips is a broad parody of British ...    0.356495   \n",
       "4662  An aging out of work clown returns to his smal...    0.092100   \n",
       "4247  A womanizing yet lovable loser, Charlie, a wai...    0.094105   \n",
       "\n",
       "                           production_companies  \\\n",
       "3519                                         []   \n",
       "4662  [{\"name\": \"Fly High Films\", \"id\": 24248}]   \n",
       "4247                                         []   \n",
       "\n",
       "                                   production_countries release_date  revenue  \\\n",
       "3519  [{\"iso_3166_1\": \"GB\", \"name\": \"United Kingdom\"...   1998-06-12        0   \n",
       "4662  [{\"iso_3166_1\": \"US\", \"name\": \"United States o...   2006-01-01        0   \n",
       "4247                                                 []   2015-07-07        0   \n",
       "\n",
       "      runtime                          spoken_languages    status  \\\n",
       "3519     99.0  [{\"iso_639_1\": \"en\", \"name\": \"English\"}]  Released   \n",
       "4662      0.0  [{\"iso_639_1\": \"en\", \"name\": \"English\"}]   Rumored   \n",
       "4247     90.0                                        []  Released   \n",
       "\n",
       "                                   tagline                  title  \\\n",
       "3519                                   NaN       Stiff Upper Lips   \n",
       "4662                                   NaN         Little Big Top   \n",
       "4247  A story about second, second chances  Me You and Five Bucks   \n",
       "\n",
       "      vote_average  vote_count  \n",
       "3519          10.0           1  \n",
       "4662          10.0           1  \n",
       "4247          10.0           2  "
      ]
     },
     "execution_count": 28,
     "metadata": {},
     "output_type": "execute_result"
    }
   ],
   "source": [
    "tmdb.query('vote_average == 10').sample(3)"
   ]
  },
  {
   "cell_type": "markdown",
   "id": "a087b205",
   "metadata": {},
   "source": [
    "## Detectamos que alguns filmes tiveram poucos votos(ou até mesmo nenhum voto). Decidimos que essses filmes não deve pertencer a nossa análise"
   ]
  },
  {
   "cell_type": "code",
   "execution_count": 25,
   "id": "ed20ac70",
   "metadata": {},
   "outputs": [
    {
     "data": {
      "text/html": [
       "<div>\n",
       "<style scoped>\n",
       "    .dataframe tbody tr th:only-of-type {\n",
       "        vertical-align: middle;\n",
       "    }\n",
       "\n",
       "    .dataframe tbody tr th {\n",
       "        vertical-align: top;\n",
       "    }\n",
       "\n",
       "    .dataframe thead th {\n",
       "        text-align: right;\n",
       "    }\n",
       "</style>\n",
       "<table border=\"1\" class=\"dataframe\">\n",
       "  <thead>\n",
       "    <tr style=\"text-align: right;\">\n",
       "      <th></th>\n",
       "      <th>budget</th>\n",
       "      <th>id</th>\n",
       "      <th>popularity</th>\n",
       "      <th>revenue</th>\n",
       "      <th>runtime</th>\n",
       "      <th>vote_average</th>\n",
       "      <th>vote_count</th>\n",
       "    </tr>\n",
       "  </thead>\n",
       "  <tbody>\n",
       "    <tr>\n",
       "      <th>count</th>\n",
       "      <td>4.392000e+03</td>\n",
       "      <td>4392.000000</td>\n",
       "      <td>4392.000000</td>\n",
       "      <td>4.392000e+03</td>\n",
       "      <td>4391.000000</td>\n",
       "      <td>4392.000000</td>\n",
       "      <td>4392.000000</td>\n",
       "    </tr>\n",
       "    <tr>\n",
       "      <th>mean</th>\n",
       "      <td>3.164545e+07</td>\n",
       "      <td>49204.119991</td>\n",
       "      <td>23.448815</td>\n",
       "      <td>8.990969e+07</td>\n",
       "      <td>108.430881</td>\n",
       "      <td>6.226935</td>\n",
       "      <td>754.441712</td>\n",
       "    </tr>\n",
       "    <tr>\n",
       "      <th>std</th>\n",
       "      <td>4.162736e+07</td>\n",
       "      <td>80136.249777</td>\n",
       "      <td>32.592158</td>\n",
       "      <td>1.682870e+08</td>\n",
       "      <td>21.014719</td>\n",
       "      <td>0.893215</td>\n",
       "      <td>1272.263761</td>\n",
       "    </tr>\n",
       "    <tr>\n",
       "      <th>min</th>\n",
       "      <td>0.000000e+00</td>\n",
       "      <td>5.000000</td>\n",
       "      <td>0.011697</td>\n",
       "      <td>0.000000e+00</td>\n",
       "      <td>0.000000</td>\n",
       "      <td>1.900000</td>\n",
       "      <td>10.000000</td>\n",
       "    </tr>\n",
       "    <tr>\n",
       "      <th>25%</th>\n",
       "      <td>2.895962e+06</td>\n",
       "      <td>8403.500000</td>\n",
       "      <td>6.512166</td>\n",
       "      <td>1.365700e+04</td>\n",
       "      <td>95.000000</td>\n",
       "      <td>5.700000</td>\n",
       "      <td>83.750000</td>\n",
       "    </tr>\n",
       "    <tr>\n",
       "      <th>50%</th>\n",
       "      <td>1.700000e+07</td>\n",
       "      <td>13084.500000</td>\n",
       "      <td>14.827784</td>\n",
       "      <td>2.685837e+07</td>\n",
       "      <td>105.000000</td>\n",
       "      <td>6.300000</td>\n",
       "      <td>288.500000</td>\n",
       "    </tr>\n",
       "    <tr>\n",
       "      <th>75%</th>\n",
       "      <td>4.200000e+07</td>\n",
       "      <td>46831.250000</td>\n",
       "      <td>30.258282</td>\n",
       "      <td>1.022818e+08</td>\n",
       "      <td>118.500000</td>\n",
       "      <td>6.800000</td>\n",
       "      <td>831.000000</td>\n",
       "    </tr>\n",
       "    <tr>\n",
       "      <th>max</th>\n",
       "      <td>3.800000e+08</td>\n",
       "      <td>417859.000000</td>\n",
       "      <td>875.581305</td>\n",
       "      <td>2.787965e+09</td>\n",
       "      <td>338.000000</td>\n",
       "      <td>8.500000</td>\n",
       "      <td>13752.000000</td>\n",
       "    </tr>\n",
       "  </tbody>\n",
       "</table>\n",
       "</div>"
      ],
      "text/plain": [
       "             budget             id   popularity       revenue      runtime  \\\n",
       "count  4.392000e+03    4392.000000  4392.000000  4.392000e+03  4391.000000   \n",
       "mean   3.164545e+07   49204.119991    23.448815  8.990969e+07   108.430881   \n",
       "std    4.162736e+07   80136.249777    32.592158  1.682870e+08    21.014719   \n",
       "min    0.000000e+00       5.000000     0.011697  0.000000e+00     0.000000   \n",
       "25%    2.895962e+06    8403.500000     6.512166  1.365700e+04    95.000000   \n",
       "50%    1.700000e+07   13084.500000    14.827784  2.685837e+07   105.000000   \n",
       "75%    4.200000e+07   46831.250000    30.258282  1.022818e+08   118.500000   \n",
       "max    3.800000e+08  417859.000000   875.581305  2.787965e+09   338.000000   \n",
       "\n",
       "       vote_average    vote_count  \n",
       "count   4392.000000   4392.000000  \n",
       "mean       6.226935    754.441712  \n",
       "std        0.893215   1272.263761  \n",
       "min        1.900000     10.000000  \n",
       "25%        5.700000     83.750000  \n",
       "50%        6.300000    288.500000  \n",
       "75%        6.800000    831.000000  \n",
       "max        8.500000  13752.000000  "
      ]
     },
     "execution_count": 25,
     "metadata": {},
     "output_type": "execute_result"
    }
   ],
   "source": [
    "tmdb_com_mais_de_10_votos = tmdb.query('vote_count >= 10')\n",
    "tmdb_com_mais_de_10_votos.describe()"
   ]
  },
  {
   "cell_type": "code",
   "execution_count": 30,
   "id": "203e6487",
   "metadata": {},
   "outputs": [
    {
     "name": "stderr",
     "output_type": "stream",
     "text": [
      "C:\\Users\\rgrso\\anaconda3\\envs\\rgrAndrade\\lib\\site-packages\\seaborn\\distributions.py:2619: FutureWarning: `distplot` is a deprecated function and will be removed in a future version. Please adapt your code to use either `displot` (a figure-level function with similar flexibility) or `histplot` (an axes-level function for histograms).\n",
      "  warnings.warn(msg, FutureWarning)\n"
     ]
    },
    {
     "data": {
      "text/plain": [
       "Text(0.5, 1.0, 'Média de votos em filmes no TMBD 5000, dentre os filmes com 10 ou mais votos')"
      ]
     },
     "execution_count": 30,
     "metadata": {},
     "output_type": "execute_result"
    },
    {
     "data": {
      "image/png": "[encoded data removed]",
      "text/plain": [
       "<Figure size 432x288 with 1 Axes>"
      ]
     },
     "metadata": {
      "needs_background": "light"
     },
     "output_type": "display_data"
    }
   ],
   "source": [
    "ax = sns.distplot(tmdb_com_mais_de_10_votos.vote_average, norm_hist= False, kde= False)\n",
    "ax.set(xlabel='Nota média', ylabel='Frequência')\n",
    "ax.set_title('Média de votos em filmes no TMBD 5000, dentre os filmes com 10 ou mais votos')"
   ]
  },
  {
   "cell_type": "code",
   "execution_count": 32,
   "id": "194ca6c8",
   "metadata": {},
   "outputs": [
    {
     "name": "stderr",
     "output_type": "stream",
     "text": [
      "C:\\Users\\rgrso\\anaconda3\\envs\\rgrAndrade\\lib\\site-packages\\seaborn\\distributions.py:2619: FutureWarning: `distplot` is a deprecated function and will be removed in a future version. Please adapt your code to use either `displot` (a figure-level function with similar flexibility) or `histplot` (an axes-level function for histograms).\n",
      "  warnings.warn(msg, FutureWarning)\n"
     ]
    },
    {
     "data": {
      "text/plain": [
       "Text(0.5, 1.0, 'Média de votos em filmes no TMBD 5000, dentre os filmes com 10 ou mais votos')"
      ]
     },
     "execution_count": 32,
     "metadata": {},
     "output_type": "execute_result"
    },
    {
     "data": {
      "image/png": "[encoded data removed]",
      "text/plain": [
       "<Figure size 432x288 with 1 Axes>"
      ]
     },
     "metadata": {
      "needs_background": "light"
     },
     "output_type": "display_data"
    }
   ],
   "source": [
    " ax = sns.distplot(tmdb_com_mais_de_10_votos.vote_average )\n",
    "ax.set(xlabel='Nota média', ylabel='Densidade')\n",
    "ax.set_title('Média de votos em filmes no TMBD 5000, dentre os filmes com 10 ou mais votos')"
   ]
  },
  {
   "cell_type": "code",
   "execution_count": 33,
   "id": "f1275aa7",
   "metadata": {},
   "outputs": [
    {
     "data": {
      "text/plain": [
       "Text(0.5, 1.0, 'Distribuição de nota média dos filmes do TMDB 5000 dentre os filmes com 10 mais votos')"
      ]
     },
     "execution_count": 33,
     "metadata": {},
     "output_type": "execute_result"
    },
    {
     "data": {
      "image/png": "[encoded data removed]",
      "text/plain": [
       "<Figure size 432x288 with 1 Axes>"
      ]
     },
     "metadata": {
      "needs_background": "light"
     },
     "output_type": "display_data"
    }
   ],
   "source": [
    "ax = sns.boxplot(x=tmdb_com_mais_de_10_votos.vote_average)\n",
    "ax.set(xlabel='Nota  média do filme')\n",
    "ax.set_title('Distribuição de nota média dos filmes do TMDB 5000 dentre os filmes com 10 mais votos')"
   ]
  },
  {
   "cell_type": "code",
   "execution_count": null,
   "id": "dcc7def2",
   "metadata": {},
   "outputs": [],
   "source": []
  }
 ],
 "metadata": {
  "kernelspec": {
   "display_name": "Python 3 (ipykernel)",
   "language": "python",
   "name": "python3"
  },
  "language_info": {
   "codemirror_mode": {
    "name": "ipython",
    "version": 3
   },
   "file_extension": ".py",
   "mimetype": "text/x-python",
   "name": "python",
   "nbconvert_exporter": "python",
   "pygments_lexer": "ipython3",
   "version": "3.10.4"
  }
 },
 "nbformat": 4,
 "nbformat_minor": 5
}
